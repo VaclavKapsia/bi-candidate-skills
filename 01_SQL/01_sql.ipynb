{
 "cells": [
  {
   "cell_type": "markdown",
   "id": "31122f5a",
   "metadata": {},
   "source": [
    "## Install Python dependencies"
   ]
  },
  {
   "cell_type": "code",
   "execution_count": null,
   "id": "74e7e4e5-cede-42c3-aa95-b0b93146330c",
   "metadata": {},
   "outputs": [],
   "source": [
    "%pip install jupysql pandas matplotlib duckdb-engine"
   ]
  },
  {
   "cell_type": "markdown",
   "id": "8dbbe3df",
   "metadata": {},
   "source": [
    "## Setup SQL magic"
   ]
  },
  {
   "cell_type": "code",
   "execution_count": null,
   "id": "4d68ebd0",
   "metadata": {},
   "outputs": [],
   "source": [
    "import duckdb\n",
    "\n",
    "%load_ext sql\n",
    "conn = duckdb.connect(\"01_sql.db\")\n",
    "%sql conn --alias duckdb"
   ]
  },
  {
   "cell_type": "markdown",
   "id": "c30fe9f2",
   "metadata": {},
   "source": [
    "## Test that connection is working"
   ]
  },
  {
   "cell_type": "code",
   "execution_count": null,
   "id": "925b2394-e8f3-4c39-89a6-5c87ea3e1aec",
   "metadata": {},
   "outputs": [],
   "source": [
    "%%sql\n",
    "select * from courses"
   ]
  },
  {
   "cell_type": "code",
   "execution_count": null,
   "id": "404b505c",
   "metadata": {},
   "outputs": [],
   "source": [
    "%%sql\n",
    "select * from students"
   ]
  },
  {
   "cell_type": "markdown",
   "id": "662e0c18",
   "metadata": {},
   "source": [
    "## Questions to answer\n",
    "\n",
    "1) Average number of finished courses to every active B2B student.\n",
    "\n",
    "2) Average number of started courses to every B2C student.\n",
    "\n",
    "3) Overall study length of every student.\n",
    "\n",
    "Copy your SQL scripts (no data are needed) into [03_results](03_results.md) and follow next steps."
   ]
  }
 ],
 "metadata": {
  "kernelspec": {
   "display_name": "Python 3 (ipykernel)",
   "language": "python",
   "name": "python3"
  },
  "language_info": {
   "codemirror_mode": {
    "name": "ipython",
    "version": 3
   },
   "file_extension": ".py",
   "mimetype": "text/x-python",
   "name": "python",
   "nbconvert_exporter": "python",
   "pygments_lexer": "ipython3",
   "version": "3.11.7"
  }
 },
 "nbformat": 4,
 "nbformat_minor": 5
}
